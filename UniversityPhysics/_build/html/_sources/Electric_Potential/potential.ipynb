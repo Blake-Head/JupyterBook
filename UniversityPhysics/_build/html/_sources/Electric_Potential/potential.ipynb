{
 "cells": [
  {
   "cell_type": "markdown",
   "metadata": {},
   "source": [
    "# Electric Potential / Electric Potential Energy"
   ]
  }
 ],
 "metadata": {
  "language_info": {
   "name": "python"
  }
 },
 "nbformat": 4,
 "nbformat_minor": 2
}
