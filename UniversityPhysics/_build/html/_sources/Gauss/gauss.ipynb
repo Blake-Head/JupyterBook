{
 "cells": [
  {
   "cell_type": "markdown",
   "metadata": {},
   "source": [
    "# Electric Flux and Gauss' Law"
   ]
  }
 ],
 "metadata": {
  "language_info": {
   "name": "python"
  }
 },
 "nbformat": 4,
 "nbformat_minor": 2
}
