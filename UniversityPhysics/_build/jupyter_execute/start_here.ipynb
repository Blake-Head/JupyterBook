{
 "cells": [
  {
   "cell_type": "code",
   "execution_count": 1,
   "metadata": {},
   "outputs": [],
   "source": [
    "from manim import *\n",
    "\n",
    "class FirstScene(Scene):\n",
    "\n",
    "    def construct(self):\n",
    "        text = Text(\"Quantum Fourier Transform (QFT)\").scale(0.9)\n",
    "        self.play(FadeIn(text))\n",
    "        self.wait(3)\n",
    "\n",
    "class qft(Scene):\n",
    "    def construct(self):\n",
    "        qft = Tex(r\"QFT = \\frac{1}{\\sqrt{N}} \\sum_{j=0}^{N-1} \\sum_{k=0}^{N-1} e^{\\frac{2 \\pi i j k}{N}} |k \\rangle \\langle j|\")\n",
    "        self.play(Write(qft), run_time=3)\n",
    "        self.wait(3)\n",
    "        self.play(FadeOut(qft))\n",
    "\n",
    "        qft2 = MathTex(r\"QFT = \\frac{1}{\\sqrt{N}} \\sum_{j=0}^{N-1} \\sum_{k=0}^{N-1} e^{\\frac{2 \\pi i j k}{N}} |k \\rangle \\langle j|\")\n",
    "        self.play(Write(qft2), run_time=3)\n",
    "        self.wait(3)\n",
    "\n",
    "        %manim -pql qft.py qft"
   ]
  },
  {
   "cell_type": "markdown",
   "metadata": {},
   "source": [
    "Here is some basic markdown text. "
   ]
  }
 ],
 "metadata": {
  "kernelspec": {
   "display_name": ".venv",
   "language": "python",
   "name": "python3"
  },
  "language_info": {
   "codemirror_mode": {
    "name": "ipython",
    "version": 3
   },
   "file_extension": ".py",
   "mimetype": "text/x-python",
   "name": "python",
   "nbconvert_exporter": "python",
   "pygments_lexer": "ipython3",
   "version": "3.13.2"
  }
 },
 "nbformat": 4,
 "nbformat_minor": 2
}