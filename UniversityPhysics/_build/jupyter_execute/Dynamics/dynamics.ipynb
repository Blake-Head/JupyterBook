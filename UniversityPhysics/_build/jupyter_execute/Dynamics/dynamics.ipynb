{
 "cells": [
  {
   "cell_type": "markdown",
   "metadata": {},
   "source": [
    "\n",
    "Now that we have learned a little about momentum and practiced how to solve problems with it, we can continue along our physics journey. \n",
    "\n",
    "In the previous section, we defined two quantities: **momentum** and **impulse**.  As equations, these are, respectively:\n",
    "\n",
    "\n",
    "\\begin{equation}\n",
    "\\vec{p} = m \\vec{v}\n",
    "\\end{equation}\n",
    "\n",
    "\\begin{equation}\n",
    "    \\vec{J} = \\Delta\\vec{p} = \\int_a^b \\vec{F}(x) \\ dx\n",
    "\\end{equation}\n",
    "\n",
    "\n",
    "You may remember from your calculus 1 course (or perhaps you're hearing it for the first time here) that integrating a function gives us the **area underneath that function** between our two limits *a* and *b*.  \n",
    "\n",
    "<p align=\"center\">\n",
    "<img \n",
    "src=\"../output.gif\"\n",
    "alt=\"visual representation of simple integration\"\n",
    "width=600px>\n",
    "</p>"
   ]
  }
 ],
 "metadata": {
  "language_info": {
   "codemirror_mode": {
    "name": "ipython",
    "version": 3
   },
   "file_extension": ".py",
   "mimetype": "text/x-python",
   "name": "python",
   "nbconvert_exporter": "python",
   "pygments_lexer": "ipython3",
   "version": "3.13.2"
  }
 },
 "nbformat": 4,
 "nbformat_minor": 2
}