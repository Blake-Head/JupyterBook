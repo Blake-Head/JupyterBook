{
 "cells": [
  {
   "cell_type": "markdown",
   "metadata": {},
   "source": [
    "# Necessary Skills to Succeed in this Course"
   ]
  },
  {
   "cell_type": "markdown",
   "metadata": {},
   "source": [
    "This course is meant as a basic introduction to several fundamental concepts in physics.  As such, no pre-requisite knowledge of physics is expected, but there *may* be times where an assumption is made about your life experience (for example, I will assume you've seen a car before).  \n",
    "\n",
    "<div class=\"callout callout-primary\">\n",
    "Blah blah blah\n",
    "</div>"
   ]
  },
  {
   "cell_type": "code",
   "execution_count": null,
   "metadata": {},
   "outputs": [],
   "source": [
    "from manim import *\n",
    "\n",
    "class FirstScene(Scene):\n",
    "\n",
    "    def construct(self):\n",
    "        text = Text(\"Quantum Fourier Transform (QFT)\").scale(0.9)\n",
    "        self.play(FadeIn(text))\n",
    "        self.wait(3)\n",
    "\n",
    "class qft(Scene):\n",
    "    def construct(self):\n",
    "        qft = Tex(r\"QFT = \\frac{1}{\\sqrt{N}} \\sum_{j=0}^{N-1} \\sum_{k=0}^{N-1} e^{\\frac{2 \\pi i j k}{N}} |k \\rangle \\langle j|\")\n",
    "        self.play(Write(qft), run_time=3)\n",
    "        self.wait(3)\n",
    "        self.play(FadeOut(qft))\n",
    "\n",
    "        qft2 = MathTex(r\"QFT = \\frac{1}{\\sqrt{N}} \\sum_{j=0}^{N-1} \\sum_{k=0}^{N-1} e^{\\frac{2 \\pi i j k}{N}} |k \\rangle \\langle j|\")\n",
    "        self.play(Write(qft2), run_time=3)\n",
    "        self.wait(3)\n",
    "\n",
    "        %manim -pql qft.py qft"
   ]
  },
  {
   "cell_type": "markdown",
   "metadata": {},
   "source": []
  },
  {
   "cell_type": "markdown",
   "metadata": {},
   "source": [
    "Here is some basic markdown text. "
   ]
  }
 ],
 "metadata": {
  "kernelspec": {
   "display_name": ".venv",
   "language": "python",
   "name": "python3"
  },
  "language_info": {
   "codemirror_mode": {
    "name": "ipython",
    "version": 3
   },
   "file_extension": ".py",
   "mimetype": "text/x-python",
   "name": "python",
   "nbconvert_exporter": "python",
   "pygments_lexer": "ipython3",
   "version": "3.13.2"
  }
 },
 "nbformat": 4,
 "nbformat_minor": 2
}
